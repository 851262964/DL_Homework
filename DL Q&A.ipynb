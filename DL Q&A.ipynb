{
 "cells": [
  {
   "cell_type": "code",
   "execution_count": null,
   "id": "8565b943-3217-49f6-a47a-4cbbc370a734",
   "metadata": {},
   "outputs": [],
   "source": [
    "#Evaluate the performance of each model\n",
    "\n",
    "#Finally, use the testing data to evaluate each model and compare the performance.\n",
    "#Use the above to answer the following:\n",
    "\n",
    "#Q Which model has a lower loss?\n",
    "#A Stock_predictor_closing_prices had the lower loss.\n",
    "\n",
    "#Q Which model tracks the actual values better over time?\n",
    "\n",
    "#A FNG model was better at predicting values over time, the margin of error of prediction to actual price was smaller.\n",
    "\n",
    "#Q Which window size works best for the model?\n",
    "\n",
    "#A Using larger window (i.e. 10 versus a lower window such as 5,3,or 1 seems to work better, more accurate results."
   ]
  }
 ],
 "metadata": {
  "kernelspec": {
   "display_name": "Python 3 (ipykernel)",
   "language": "python",
   "name": "python3"
  },
  "language_info": {
   "codemirror_mode": {
    "name": "ipython",
    "version": 3
   },
   "file_extension": ".py",
   "mimetype": "text/x-python",
   "name": "python",
   "nbconvert_exporter": "python",
   "pygments_lexer": "ipython3",
   "version": "3.9.12"
  }
 },
 "nbformat": 4,
 "nbformat_minor": 5
}
